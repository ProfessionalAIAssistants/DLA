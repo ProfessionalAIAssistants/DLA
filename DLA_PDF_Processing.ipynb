{
 "cells": [
  {
   "cell_type": "markdown",
   "id": "b823b91e",
   "metadata": {},
   "source": [
    "# DLA PDF Document Processing Notebook\n",
    "\n",
    "This notebook processes PDF documents from the Defense Logistics Agency (DLA) to extract key information and organize them."
   ]
  },
  {
   "cell_type": "code",
   "execution_count": null,
   "id": "f17fb97c",
   "metadata": {},
   "outputs": [],
   "source": [
    "# Import required libraries\n",
    "import os\n",
    "import sys\n",
    "import fitz  # PyMuPDF\n",
    "import re\n",
    "import pandas as pd\n",
    "import shutil\n",
    "from pathlib import Path\n",
    "from datetime import datetime"
   ]
  },
  {
   "cell_type": "code",
   "execution_count": null,
   "id": "692e025a",
   "metadata": {},
   "outputs": [],
   "source": [
    "# Define directory paths\n",
    "base_dir = Path().absolute()\n",
    "pdf_dir = base_dir / \"To Process\"\n",
    "summary_dir = base_dir / \"Output\"\n",
    "automation_dir = base_dir / \"Automation\"\n",
    "reviewed_dir = base_dir / \"Reviewed\"\n",
    "\n",
    "# Create directories if they don't exist\n",
    "summary_dir.mkdir(exist_ok=True)\n",
    "automation_dir.mkdir(exist_ok=True)\n",
    "reviewed_dir.mkdir(exist_ok=True)\n",
    "\n",
    "print(f\"Base directory: {base_dir}\")\n",
    "print(f\"PDF directory: {pdf_dir}\")\n",
    "print(f\"Found {len(list(pdf_dir.glob('*.PDF')))} PDF files to process\")"
   ]
  },
  {
   "cell_type": "code",
   "execution_count": null,
   "id": "1096010b",
   "metadata": {},
   "outputs": [],
   "source": [
    "# Basic PDF text extraction function\n",
    "def extract_text_from_pdf(pdf_file):\n",
    "    text = \"\"\n",
    "    try:\n",
    "        with fitz.open(pdf_file) as doc:\n",
    "            print(f\"PDF has {doc.page_count} pages\")\n",
    "            for page_num in range(doc.page_count):\n",
    "                page = doc.load_page(page_num)\n",
    "                text += page.get_text()\n",
    "        return text\n",
    "    except Exception as e:\n",
    "        print(f\"Error extracting text: {str(e)}\")\n",
    "        return None"
   ]
  },
  {
   "cell_type": "code",
   "execution_count": null,
   "id": "69d7b1c6",
   "metadata": {},
   "outputs": [],
   "source": [
    "# Test PDF text extraction with first PDF\n",
    "pdf_files = list(pdf_dir.glob(\"*.PDF\"))\n",
    "if pdf_files:\n",
    "    pdf_file = pdf_files[0]\n",
    "    print(f\"Processing: {pdf_file.name}\")\n",
    "    \n",
    "    text = extract_text_from_pdf(pdf_file)\n",
    "    if text:\n",
    "        # Display first 500 characters of extracted text\n",
    "        print(\"\\nExtracted Text (first 500 chars):\")\n",
    "        print(text[:500])\n",
    "    else:\n",
    "        print(\"Failed to extract text\")\n",
    "else:\n",
    "    print(\"No PDF files found\")"
   ]
  },
  {
   "cell_type": "code",
   "execution_count": null,
   "id": "3a26741b",
   "metadata": {},
   "outputs": [],
   "source": [
    "# Find key information in a PDF\n",
    "def extract_key_info(text):\n",
    "    info = {}\n",
    "    \n",
    "    # Request number extraction\n",
    "    request_no_pattern = r'1\\. REQUEST NO\\.\\s*(\\S+)\\s*'\n",
    "    match = re.search(request_no_pattern, text)\n",
    "    info['request_number'] = match.group(1) if match else None\n",
    "    \n",
    "    # NSN and FSC extraction\n",
    "    nsn_fsc_pattern = r'NSN/FSC:(\\d+)/(\\d+)'\n",
    "    match = re.search(nsn_fsc_pattern, text)\n",
    "    if match:\n",
    "        fsc = match.group(2)\n",
    "        nsn = fsc + match.group(1)\n",
    "        info['nsn'] = nsn\n",
    "        info['fsc'] = fsc\n",
    "    else:\n",
    "        info['nsn'] = None\n",
    "        info['fsc'] = None\n",
    "        \n",
    "    # Purchase number extraction\n",
    "    purchase_no_pattern = r'3\\.\\s*REQUISITION/PURCHASE REQUEST NO\\.\\s*(\\S+)\\s*'\n",
    "    match = re.search(purchase_no_pattern, text)\n",
    "    info['purchase_number'] = match.group(1) if match else None\n",
    "    \n",
    "    return info"
   ]
  },
  {
   "cell_type": "code",
   "execution_count": null,
   "id": "4b8bc268",
   "metadata": {},
   "outputs": [],
   "source": [
    "# Process first PDF and extract key information\n",
    "if pdf_files:\n",
    "    pdf_file = pdf_files[0]\n",
    "    text = extract_text_from_pdf(pdf_file)\n",
    "    if text:\n",
    "        info = extract_key_info(text)\n",
    "        print(\"\\nExtracted Key Information:\")\n",
    "        for key, value in info.items():\n",
    "            print(f\"{key}: {value}\")\n",
    "    else:\n",
    "        print(\"Failed to extract text\")"
   ]
  }
 ],
 "metadata": {
  "language_info": {
   "name": "python"
  }
 },
 "nbformat": 4,
 "nbformat_minor": 5
}
